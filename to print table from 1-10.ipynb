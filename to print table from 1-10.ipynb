{
 "metadata": {
  "language_info": {
   "codemirror_mode": {
    "name": "ipython",
    "version": 3
   },
   "file_extension": ".py",
   "mimetype": "text/x-python",
   "name": "python",
   "nbconvert_exporter": "python",
   "pygments_lexer": "ipython3",
   "version": "3.8.5-final"
  },
  "orig_nbformat": 2,
  "kernelspec": {
   "name": "python3",
   "display_name": "Python 3",
   "language": "python"
  }
 },
 "nbformat": 4,
 "nbformat_minor": 2,
 "cells": [
  {
   "cell_type": "code",
   "execution_count": 2,
   "metadata": {},
   "outputs": [
    {
     "output_type": "stream",
     "name": "stdout",
     "text": [
      "1\n2\n3\n4\n5\n6\n7\n8\n9\n10\n2\n4\n6\n8\n10\n12\n14\n16\n18\n20\n3\n6\n9\n12\n15\n18\n21\n24\n27\n30\n4\n8\n12\n16\n20\n24\n28\n32\n36\n40\n5\n10\n15\n20\n25\n30\n35\n40\n45\n50\n6\n12\n18\n24\n30\n36\n42\n48\n54\n60\n7\n14\n21\n28\n35\n42\n49\n56\n63\n70\n8\n16\n24\n32\n40\n48\n56\n64\n72\n80\n9\n18\n27\n36\n45\n54\n63\n72\n81\n90\n10\n20\n30\n40\n50\n60\n70\n80\n90\n100\n"
     ]
    }
   ],
   "source": [
    "for i in range(1,11):\n",
    "    for j in range(1,11):\n",
    "        print(i*j)"
   ]
  },
  {
   "cell_type": "code",
   "execution_count": null,
   "metadata": {},
   "outputs": [],
   "source": []
  }
 ]
}