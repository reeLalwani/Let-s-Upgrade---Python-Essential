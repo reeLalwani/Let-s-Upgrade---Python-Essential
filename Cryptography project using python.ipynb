{
 "metadata": {
  "language_info": {
   "codemirror_mode": {
    "name": "ipython",
    "version": 3
   },
   "file_extension": ".py",
   "mimetype": "text/x-python",
   "name": "python",
   "nbconvert_exporter": "python",
   "pygments_lexer": "ipython3",
   "version": "3.8.5-final"
  },
  "orig_nbformat": 2,
  "kernelspec": {
   "name": "python3",
   "display_name": "Python 3",
   "language": "python"
  }
 },
 "nbformat": 4,
 "nbformat_minor": 2,
 "cells": [
  {
   "cell_type": "code",
   "execution_count": 1,
   "metadata": {},
   "outputs": [
    {
     "output_type": "stream",
     "name": "stdout",
     "text": [
      "Requirement already satisfied: cryptography in d:\\anacondanavigator\\lib\\site-packages (3.1.1)\n",
      "Requirement already satisfied: cffi!=1.11.3,>=1.8 in d:\\anacondanavigator\\lib\\site-packages (from cryptography) (1.14.3)\n",
      "Requirement already satisfied: six>=1.4.1 in d:\\anacondanavigator\\lib\\site-packages (from cryptography) (1.15.0)\n",
      "Requirement already satisfied: pycparser in d:\\anacondanavigator\\lib\\site-packages (from cffi!=1.11.3,>=1.8->cryptography) (2.20)\n"
     ]
    }
   ],
   "source": [
    "!pip install cryptography"
   ]
  },
  {
   "cell_type": "code",
   "execution_count": 2,
   "metadata": {},
   "outputs": [],
   "source": [
    "from cryptography.fernet import Fernet\n",
    "#generate key file\n",
    "def generateKeyFile():\n",
    "    key=Fernet.generate_key()\n",
    "    print(key)\n",
    "    abc=open(\"PasswordKeyFile.key\",'wb')\n",
    "    abc.write(key)\n",
    "    abc.close()"
   ]
  },
  {
   "cell_type": "code",
   "execution_count": 3,
   "metadata": {},
   "outputs": [
    {
     "output_type": "stream",
     "name": "stdout",
     "text": [
      "b'9TV-qx9QiM9GCLaDPtIlft8s_9GU0rVFtlq5P3G-ZRI='\n"
     ]
    }
   ],
   "source": [
    "generateKeyFile()"
   ]
  },
  {
   "cell_type": "code",
   "execution_count": 4,
   "metadata": {},
   "outputs": [],
   "source": [
    "#to get key\n",
    "def getMyKey():\n",
    "    abc=open(\"PasswordKeyFile.key\",'rb')\n",
    "    return abc.read()"
   ]
  },
  {
   "cell_type": "code",
   "execution_count": 5,
   "metadata": {},
   "outputs": [
    {
     "output_type": "execute_result",
     "data": {
      "text/plain": [
       "b'9TV-qx9QiM9GCLaDPtIlft8s_9GU0rVFtlq5P3G-ZRI='"
      ]
     },
     "metadata": {},
     "execution_count": 5
    }
   ],
   "source": [
    "getMyKey()"
   ]
  },
  {
   "cell_type": "code",
   "execution_count": 6,
   "metadata": {},
   "outputs": [],
   "source": [
    "#take input from user\n",
    "def userInput():\n",
    "    return input(print(\"Enter input you want to encrypt:\"))"
   ]
  },
  {
   "cell_type": "code",
   "execution_count": 7,
   "metadata": {},
   "outputs": [
    {
     "output_type": "stream",
     "name": "stdout",
     "text": [
      "Enter input you want to encrypt:\n"
     ]
    },
    {
     "output_type": "execute_result",
     "data": {
      "text/plain": [
       "'xyz'"
      ]
     },
     "metadata": {},
     "execution_count": 7
    }
   ],
   "source": [
    "userInput()"
   ]
  },
  {
   "cell_type": "code",
   "execution_count": 11,
   "metadata": {},
   "outputs": [],
   "source": [
    "#encrypt message that taken from user\n",
    "def encryptUserInput(message_toEncrypt):\n",
    "    key=getMyKey()\n",
    "    encryptMsg=Fernet(key)\n",
    "    encrypted_msg=encryptMsg.encrypt(message_toEncrypt)\n",
    "    return encrypted_msg"
   ]
  },
  {
   "cell_type": "code",
   "execution_count": 12,
   "metadata": {},
   "outputs": [
    {
     "output_type": "execute_result",
     "data": {
      "text/plain": [
       "b'gAAAAABf273ZSpQsLQQe7L7LMuZLyAwhyWE_O35VkoOraGklQN3K2aFqO_T7EcpNyRbGIxftIQ9Cop4Wr8Ub3pUL94tqdRnluw=='"
      ]
     },
     "metadata": {},
     "execution_count": 12
    }
   ],
   "source": [
    "encryptUserInput(b\"xyzzyx\")"
   ]
  },
  {
   "cell_type": "code",
   "execution_count": 18,
   "metadata": {},
   "outputs": [],
   "source": [
    "#decrypt message\n",
    "def decryptUserInput(message_toDecrypt):\n",
    "    key=getMyKey()\n",
    "    decryptMsg=Fernet(key)\n",
    "    decrypted_msg=decryptMsg.decrypt(message_toDecrypt)\n",
    "    return decrypted_msg"
   ]
  },
  {
   "cell_type": "code",
   "execution_count": 19,
   "metadata": {},
   "outputs": [
    {
     "output_type": "execute_result",
     "data": {
      "text/plain": [
       "b'xyzzyx'"
      ]
     },
     "metadata": {},
     "execution_count": 19
    }
   ],
   "source": [
    "decryptUserInput(b'gAAAAABf273ZSpQsLQQe7L7LMuZLyAwhyWE_O35VkoOraGklQN3K2aFqO_T7EcpNyRbGIxftIQ9Cop4Wr8Ub3pUL94tqdRnluw==')"
   ]
  },
  {
   "cell_type": "code",
   "execution_count": null,
   "metadata": {},
   "outputs": [],
   "source": []
  }
 ]
}